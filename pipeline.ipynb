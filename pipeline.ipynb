{
 "cells": [
  {
   "cell_type": "markdown",
   "metadata": {},
   "source": [
    "# Prueba de ingeniería de datos"
   ]
  },
  {
   "cell_type": "markdown",
   "metadata": {},
   "source": [
    "***\n",
    "#### 1. Descarga la carpeta comprimida que contiene los datos y déjalos en una carpeta exclusiva para este reto que vas a realizar.✔️\n",
    "##### <font color='green'>Solución:</font>\n",
    "<font color='green'>Archivos descargados en la ruta `\"./batched_files\"`</font>\n",
    "\n",
    "***\n",
    "#### 2. Construye un pipeline que sea capaz de:✔️\n",
    "> a) Cargar todos los archivos .CSV excepto el llamado “validation.csv” (El pipeline no debe contener todo el conjunto de datos, es decir, los 5 archivos .CSV al mismo tiempo en memoria en cualquier momento).\n",
    "> b) Almacena los datos de los archivos .CSV, en una base de datos de tu elección (ejemplo: PostgreSQL, MySQL, etc). El diseño de esta base de datos dependerá de ti, crea la tabla o tablas que creas necesarias con el esquema que creas es adecuado, pero ten presente que todos los .CSV deben ir en la misma base de datos.\n",
    "> c) A medida que los datos son cargados, realiza un seguimiento de:\n",
    ">> - Recuento (Count) de filas cargadas a la base de datos.\n",
    ">> - Valor medio, mínimo y máximo del campo “price”.\n",
    "##### <font color='green'>Solución:</font>"
   ]
  },
  {
   "cell_type": "markdown",
   "metadata": {},
   "source": [
    "<font color='green'>i. Identificar archivos de batches y ordenarlos</font>"
   ]
  },
  {
   "cell_type": "code",
   "execution_count": 10,
   "metadata": {},
   "outputs": [
    {
     "data": {
      "text/plain": [
       "['2012-1.csv', '2012-2.csv', '2012-3.csv', '2012-4.csv', '2012-5.csv']"
      ]
     },
     "execution_count": 10,
     "metadata": {},
     "output_type": "execute_result"
    }
   ],
   "source": [
    "import pandas as pd\n",
    "import os\n",
    "\n",
    "batch_folder = \"./batched_files/\"\n",
    "list_of_files = os.listdir(batch_folder)\n",
    "list_of_files.sort()\n",
    "list_of_files.remove('validation.csv')\n",
    "list_of_files"
   ]
  },
  {
   "cell_type": "markdown",
   "metadata": {},
   "source": [
    "<font color='green'>ii. Conectarse a la base de datos</font>"
   ]
  },
  {
   "cell_type": "code",
   "execution_count": 11,
   "metadata": {},
   "outputs": [],
   "source": [
    "import pandas as pd\n",
    "from sqlalchemy import create_engine\n",
    "import sqlalchemy\n",
    "# Define the database connection parameters\n",
    "db_host = \"localhost\"\n",
    "db_user = \"pragma\"\n",
    "db_password = \"password\"\n",
    "db_name = \"pragma\"\n",
    "# Create a SQLAlchemy engine\n",
    "connection_string = f\"mysql+pymysql://{db_user}:{db_password}@{db_host}/{db_name}\"\n",
    "engine = create_engine(connection_string)"
   ]
  },
  {
   "cell_type": "markdown",
   "metadata": {},
   "source": [
    "<font color='green'>iii. Para cada fila del batch, leer cada registro, actualizar en la base de datos</font>"
   ]
  },
  {
   "cell_type": "code",
   "execution_count": 12,
   "metadata": {},
   "outputs": [],
   "source": [
    "import datetime as datetime\n",
    "import numpy as np\n",
    "from typing import Tuple\n",
    "\n",
    "def extract_batch(batch_file_path: str) -> pd.DataFrame:\n",
    "    \"\"\"\n",
    "    Reads the csv batch file into a pandas DataFrame.\n",
    "    ----\n",
    "\n",
    "    ## Parameters:\n",
    "    \n",
    "    batch_file_path: contains the path of the batch file\n",
    "\n",
    "    \"\"\"\n",
    "    batch = pd.read_csv(batch_file_path,parse_dates=[0] ,date_format=\"M/DD/YYYY\")\n",
    "    batch[\"date\"]=pd.to_datetime(batch[\"timestamp\"])\n",
    "    batch = batch.drop(\"timestamp\", axis=1)\n",
    "    return batch\n",
    "\n",
    "def load_batch(\n",
    "        batch: pd.DataFrame,\n",
    "        engine:sqlalchemy.engine,\n",
    "        price_max: float,\n",
    "        price_min: float,\n",
    "        price_mean: float,\n",
    "        price_count: int,\n",
    "        row_count: int,\n",
    "        print_stats: bool = True,\n",
    "    ) -> Tuple[float, float, float, int, int]:\n",
    "    for __, row in batch.iterrows():\n",
    "        price = float(row[\"price\"])\n",
    "        if not np.isnan(price):\n",
    "            price_max = max(price_max,price)\n",
    "            price_min = min(price_min,price)\n",
    "            price_mean = (price_mean*price_count + price)/(price_count+1)\n",
    "            price_count = price_count+1\n",
    "        row_count +=1\n",
    "        pd.DataFrame(row).T.to_sql(name=\"purchases\",con=engine,if_exists=\"append\",index=False)\n",
    "        if print_stats:\n",
    "            print(\"row_count: \", row_count, end=\" \")\n",
    "            print(\"price_max: \", price_max, end=\" \")\n",
    "            print(\"price_min: \", price_min, end=\" \")\n",
    "            print(\"price_mean: \", price_mean)\n",
    "    return(price_max, price_min, price_mean, price_count, row_count)"
   ]
  },
  {
   "cell_type": "code",
   "execution_count": 13,
   "metadata": {},
   "outputs": [
    {
     "name": "stdout",
     "output_type": "stream",
     "text": [
      "row_count:  1 price_max:  50.0 price_min:  50.0 price_mean:  50.0\n",
      "row_count:  2 price_max:  87.0 price_min:  50.0 price_mean:  68.5\n",
      "row_count:  3 price_max:  87.0 price_min:  50.0 price_mean:  67.0\n",
      "row_count:  4 price_max:  87.0 price_min:  20.0 price_mean:  55.25\n",
      "row_count:  5 price_max:  87.0 price_min:  14.0 price_mean:  47.0\n",
      "row_count:  6 price_max:  95.0 price_min:  14.0 price_mean:  55.0\n",
      "row_count:  7 price_max:  95.0 price_min:  14.0 price_mean:  60.714285714285715\n",
      "row_count:  8 price_max:  95.0 price_min:  14.0 price_mean:  60.875\n",
      "row_count:  9 price_max:  95.0 price_min:  14.0 price_mean:  59.22222222222222\n",
      "row_count:  10 price_max:  97.0 price_min:  14.0 price_mean:  63.0\n",
      "row_count:  11 price_max:  97.0 price_min:  14.0 price_mean:  60.09090909090909\n",
      "row_count:  12 price_max:  97.0 price_min:  14.0 price_mean:  60.09090909090909\n",
      "row_count:  13 price_max:  97.0 price_min:  14.0 price_mean:  58.166666666666664\n",
      "row_count:  14 price_max:  97.0 price_min:  14.0 price_mean:  59.38461538461539\n",
      "row_count:  15 price_max:  97.0 price_min:  14.0 price_mean:  58.357142857142854\n",
      "row_count:  16 price_max:  97.0 price_min:  14.0 price_mean:  56.266666666666666\n",
      "row_count:  17 price_max:  97.0 price_min:  14.0 price_mean:  57.625\n",
      "row_count:  18 price_max:  97.0 price_min:  14.0 price_mean:  56.705882352941174\n",
      "row_count:  19 price_max:  97.0 price_min:  14.0 price_mean:  56.05555555555556\n",
      "row_count:  20 price_max:  97.0 price_min:  14.0 price_mean:  58.1578947368421\n",
      "row_count:  21 price_max:  97.0 price_min:  14.0 price_mean:  58.1578947368421\n",
      "row_count:  22 price_max:  97.0 price_min:  14.0 price_mean:  59.65\n",
      "row_count:  23 price_max:  97.0 price_min:  14.0 price_mean:  60.42857142857143\n",
      "row_count:  24 price_max:  97.0 price_min:  14.0 price_mean:  60.68181818181818\n",
      "row_count:  25 price_max:  97.0 price_min:  14.0 price_mean:  60.08695652173913\n",
      "row_count:  26 price_max:  100.0 price_min:  14.0 price_mean:  61.75\n",
      "row_count:  27 price_max:  100.0 price_min:  14.0 price_mean:  60.04\n",
      "row_count:  28 price_max:  100.0 price_min:  14.0 price_mean:  60.0\n",
      "row_count:  29 price_max:  100.0 price_min:  14.0 price_mean:  60.629629629629626\n",
      "row_count:  30 price_max:  100.0 price_min:  14.0 price_mean:  62.035714285714285\n",
      "row_count:  31 price_max:  100.0 price_min:  14.0 price_mean:  61.793103448275865\n",
      "row_count:  32 price_max:  100.0 price_min:  14.0 price_mean:  60.36666666666667\n",
      "row_count:  33 price_max:  100.0 price_min:  14.0 price_mean:  61.483870967741936\n",
      "row_count:  34 price_max:  100.0 price_min:  14.0 price_mean:  61.84375\n",
      "row_count:  35 price_max:  100.0 price_min:  14.0 price_mean:  60.93939393939394\n",
      "row_count:  36 price_max:  100.0 price_min:  14.0 price_mean:  61.94117647058823\n",
      "row_count:  37 price_max:  100.0 price_min:  12.0 price_mean:  60.51428571428571\n",
      "row_count:  38 price_max:  100.0 price_min:  12.0 price_mean:  59.861111111111114\n",
      "row_count:  39 price_max:  100.0 price_min:  12.0 price_mean:  59.0\n",
      "row_count:  40 price_max:  100.0 price_min:  10.0 price_mean:  57.71052631578947\n",
      "row_count:  41 price_max:  100.0 price_min:  10.0 price_mean:  56.92307692307692\n",
      "row_count:  42 price_max:  100.0 price_min:  10.0 price_mean:  55.85\n",
      "row_count:  43 price_max:  100.0 price_min:  10.0 price_mean:  56.609756097560975\n",
      "row_count:  44 price_max:  100.0 price_min:  10.0 price_mean:  57.04761904761905\n",
      "row_count:  45 price_max:  100.0 price_min:  10.0 price_mean:  56.55813953488372\n",
      "row_count:  46 price_max:  100.0 price_min:  10.0 price_mean:  57.18181818181818\n",
      "row_count:  47 price_max:  100.0 price_min:  10.0 price_mean:  57.28888888888889\n",
      "row_count:  48 price_max:  100.0 price_min:  10.0 price_mean:  57.26086956521739\n",
      "row_count:  49 price_max:  100.0 price_min:  10.0 price_mean:  56.40425531914894\n",
      "row_count:  50 price_max:  100.0 price_min:  10.0 price_mean:  56.5625\n",
      "row_count:  51 price_max:  100.0 price_min:  10.0 price_mean:  56.795918367346935\n",
      "row_count:  52 price_max:  100.0 price_min:  10.0 price_mean:  57.16\n",
      "row_count:  53 price_max:  100.0 price_min:  10.0 price_mean:  56.27450980392157\n",
      "row_count:  54 price_max:  100.0 price_min:  10.0 price_mean:  56.55769230769231\n",
      "row_count:  55 price_max:  100.0 price_min:  10.0 price_mean:  56.867924528301884\n",
      "row_count:  56 price_max:  100.0 price_min:  10.0 price_mean:  56.2037037037037\n",
      "row_count:  57 price_max:  100.0 price_min:  10.0 price_mean:  55.67272727272727\n",
      "row_count:  58 price_max:  100.0 price_min:  10.0 price_mean:  56.125\n",
      "row_count:  59 price_max:  100.0 price_min:  10.0 price_mean:  56.87719298245614\n",
      "row_count:  60 price_max:  100.0 price_min:  10.0 price_mean:  57.08620689655172\n",
      "row_count:  61 price_max:  100.0 price_min:  10.0 price_mean:  56.440677966101696\n",
      "row_count:  62 price_max:  100.0 price_min:  10.0 price_mean:  56.03333333333333\n",
      "row_count:  63 price_max:  100.0 price_min:  10.0 price_mean:  56.67213114754098\n",
      "row_count:  64 price_max:  100.0 price_min:  10.0 price_mean:  56.903225806451616\n",
      "row_count:  65 price_max:  100.0 price_min:  10.0 price_mean:  57.0\n",
      "row_count:  66 price_max:  100.0 price_min:  10.0 price_mean:  56.9375\n",
      "row_count:  67 price_max:  100.0 price_min:  10.0 price_mean:  57.4\n",
      "row_count:  68 price_max:  100.0 price_min:  10.0 price_mean:  57.878787878787875\n",
      "row_count:  69 price_max:  100.0 price_min:  10.0 price_mean:  57.208955223880594\n",
      "row_count:  70 price_max:  100.0 price_min:  10.0 price_mean:  57.455882352941174\n",
      "row_count:  71 price_max:  100.0 price_min:  10.0 price_mean:  57.84057971014493\n",
      "row_count:  72 price_max:  100.0 price_min:  10.0 price_mean:  57.27142857142857\n",
      "row_count:  73 price_max:  100.0 price_min:  10.0 price_mean:  56.91549295774648\n",
      "row_count:  74 price_max:  100.0 price_min:  10.0 price_mean:  57.458333333333336\n",
      "row_count:  75 price_max:  100.0 price_min:  10.0 price_mean:  57.41095890410959\n",
      "row_count:  76 price_max:  100.0 price_min:  10.0 price_mean:  57.74324324324324\n",
      "row_count:  77 price_max:  100.0 price_min:  10.0 price_mean:  57.96\n",
      "row_count:  78 price_max:  100.0 price_min:  10.0 price_mean:  57.973684210526315\n",
      "row_count:  79 price_max:  100.0 price_min:  10.0 price_mean:  57.64935064935065\n",
      "row_count:  80 price_max:  100.0 price_min:  10.0 price_mean:  57.5\n",
      "row_count:  81 price_max:  100.0 price_min:  10.0 price_mean:  57.822784810126585\n",
      "row_count:  82 price_max:  100.0 price_min:  10.0 price_mean:  57.9125\n",
      "row_count:  83 price_max:  100.0 price_min:  10.0 price_mean:  58.27160493827161\n",
      "row_count:  84 price_max:  100.0 price_min:  10.0 price_mean:  58.08536585365854\n",
      "row_count:  85 price_max:  100.0 price_min:  10.0 price_mean:  57.66265060240964\n",
      "row_count:  86 price_max:  100.0 price_min:  10.0 price_mean:  58.05952380952381\n",
      "row_count:  87 price_max:  100.0 price_min:  10.0 price_mean:  58.32941176470588\n",
      "row_count:  88 price_max:  100.0 price_min:  10.0 price_mean:  58.44186046511628\n",
      "row_count:  89 price_max:  100.0 price_min:  10.0 price_mean:  58.47126436781609\n",
      "row_count:  90 price_max:  100.0 price_min:  10.0 price_mean:  57.95454545454545\n",
      "row_count:  91 price_max:  100.0 price_min:  10.0 price_mean:  57.438202247191015\n",
      "row_count:  92 price_max:  100.0 price_min:  10.0 price_mean:  57.477777777777774\n",
      "row_count:  93 price_max:  100.0 price_min:  10.0 price_mean:  57.53846153846154\n",
      "row_count:  94 price_max:  100.0 price_min:  10.0 price_mean:  57.869565217391305\n",
      "row_count:  95 price_max:  100.0 price_min:  10.0 price_mean:  57.924731182795696\n",
      "row_count:  96 price_max:  100.0 price_min:  10.0 price_mean:  57.840425531914896\n",
      "row_count:  97 price_max:  100.0 price_min:  10.0 price_mean:  58.252631578947366\n",
      "row_count:  98 price_max:  100.0 price_min:  10.0 price_mean:  58.583333333333336\n",
      "row_count:  99 price_max:  100.0 price_min:  10.0 price_mean:  58.583333333333336\n",
      "row_count:  100 price_max:  100.0 price_min:  10.0 price_mean:  58.79381443298969\n",
      "row_count:  101 price_max:  100.0 price_min:  10.0 price_mean:  58.295918367346935\n",
      "row_count:  102 price_max:  100.0 price_min:  10.0 price_mean:  57.91919191919192\n",
      "row_count:  103 price_max:  100.0 price_min:  10.0 price_mean:  58.02\n",
      "row_count:  104 price_max:  100.0 price_min:  10.0 price_mean:  58.20792079207921\n",
      "row_count:  105 price_max:  100.0 price_min:  10.0 price_mean:  57.8235294117647\n",
      "row_count:  106 price_max:  100.0 price_min:  10.0 price_mean:  58.05825242718446\n",
      "row_count:  107 price_max:  100.0 price_min:  10.0 price_mean:  57.91346153846154\n",
      "row_count:  108 price_max:  100.0 price_min:  10.0 price_mean:  57.885714285714286\n",
      "row_count:  109 price_max:  100.0 price_min:  10.0 price_mean:  57.885714285714286\n",
      "row_count:  110 price_max:  100.0 price_min:  10.0 price_mean:  57.839622641509436\n",
      "row_count:  111 price_max:  100.0 price_min:  10.0 price_mean:  57.60747663551402\n",
      "row_count:  112 price_max:  100.0 price_min:  10.0 price_mean:  57.77777777777778\n",
      "row_count:  113 price_max:  100.0 price_min:  10.0 price_mean:  58.0\n",
      "row_count:  114 price_max:  100.0 price_min:  10.0 price_mean:  58.027272727272724\n",
      "row_count:  115 price_max:  100.0 price_min:  10.0 price_mean:  57.67567567567568\n",
      "row_count:  116 price_max:  100.0 price_min:  10.0 price_mean:  58.0\n",
      "row_count:  117 price_max:  100.0 price_min:  10.0 price_mean:  57.63716814159292\n",
      "row_count:  118 price_max:  100.0 price_min:  10.0 price_mean:  57.29824561403509\n",
      "row_count:  119 price_max:  100.0 price_min:  10.0 price_mean:  57.37391304347826\n",
      "row_count:  120 price_max:  100.0 price_min:  10.0 price_mean:  56.991379310344826\n",
      "row_count:  121 price_max:  100.0 price_min:  10.0 price_mean:  56.76923076923077\n",
      "row_count:  122 price_max:  100.0 price_min:  10.0 price_mean:  57.09322033898305\n",
      "row_count:  123 price_max:  100.0 price_min:  10.0 price_mean:  57.260504201680675\n",
      "row_count:  124 price_max:  100.0 price_min:  10.0 price_mean:  56.916666666666664\n",
      "row_count:  125 price_max:  100.0 price_min:  10.0 price_mean:  56.62809917355372\n",
      "row_count:  126 price_max:  100.0 price_min:  10.0 price_mean:  56.90983606557377\n",
      "row_count:  127 price_max:  100.0 price_min:  10.0 price_mean:  56.80487804878049\n",
      "row_count:  128 price_max:  100.0 price_min:  10.0 price_mean:  57.024193548387096\n",
      "row_count:  129 price_max:  100.0 price_min:  10.0 price_mean:  57.08\n",
      "row_count:  130 price_max:  100.0 price_min:  10.0 price_mean:  57.285714285714285\n",
      "row_count:  131 price_max:  100.0 price_min:  10.0 price_mean:  57.07086614173228\n",
      "row_count:  132 price_max:  100.0 price_min:  10.0 price_mean:  57.109375\n",
      "row_count:  133 price_max:  100.0 price_min:  10.0 price_mean:  57.35658914728682\n",
      "row_count:  134 price_max:  100.0 price_min:  10.0 price_mean:  57.59230769230769\n",
      "row_count:  135 price_max:  100.0 price_min:  10.0 price_mean:  57.412213740458014\n",
      "row_count:  136 price_max:  100.0 price_min:  10.0 price_mean:  57.734848484848484\n",
      "row_count:  137 price_max:  100.0 price_min:  10.0 price_mean:  57.8796992481203\n",
      "row_count:  138 price_max:  100.0 price_min:  10.0 price_mean:  58.12686567164179\n",
      "row_count:  139 price_max:  100.0 price_min:  10.0 price_mean:  58.148148148148145\n",
      "row_count:  140 price_max:  100.0 price_min:  10.0 price_mean:  58.213235294117645\n",
      "row_count:  141 price_max:  100.0 price_min:  10.0 price_mean:  58.07299270072993\n",
      "row_count:  142 price_max:  100.0 price_min:  10.0 price_mean:  58.06521739130435\n",
      "row_count:  143 price_max:  100.0 price_min:  10.0 price_mean:  57.88489208633094\n"
     ]
    }
   ],
   "source": [
    "# inicializar estadísticos:\n",
    "price_max = -np.inf\n",
    "price_mean = 0.\n",
    "price_min = np.inf\n",
    "price_count = 0\n",
    "row_count = 0\n",
    "\n",
    "# populate the database\n",
    "for file_path in list_of_files:\n",
    "    batch_file_path = f\"{batch_folder}{file_path}\"\n",
    "    batch = extract_batch(batch_file_path)\n",
    "    price_max, price_min, price_mean, price_count, row_count = load_batch(\n",
    "        batch, engine, price_max, price_min, price_mean, price_count, row_count)\n"
   ]
  },
  {
   "cell_type": "markdown",
   "metadata": {},
   "source": [
    "***\n",
    "#### 3. Comprobación de resultados:✔️\n",
    "Imprime el valor actual de las estadísticas en ejecución. Idealmente después de la inserción de cada\n",
    "fila.\n",
    "> - Realiza una consulta en la base de datos del: recuento total de filas, valor promedio, valor mínimo y valor máximo para el campo “price”.\n",
    "> - Ejecuta el archivo “validation.csv” a través de todo el pipeline y muestra el valor de las estadísticas en ejecución.\n",
    "> - Realice una nueva consulta en la base de datos después de cargar “validation.csv”, para observar cómo cambiaron los valores del: recuento total de filas, valor promedio, valor mínimo y valor máximo para el campo “price”.\n",
    "\n",
    "##### <font color='green'>Solución:</font>"
   ]
  },
  {
   "cell_type": "markdown",
   "metadata": {},
   "source": [
    "<font color='green'>consulta a la base de datos previa a la validación</font>"
   ]
  },
  {
   "cell_type": "code",
   "execution_count": 14,
   "metadata": {},
   "outputs": [
    {
     "data": {
      "text/html": [
       "<div>\n",
       "<style scoped>\n",
       "    .dataframe tbody tr th:only-of-type {\n",
       "        vertical-align: middle;\n",
       "    }\n",
       "\n",
       "    .dataframe tbody tr th {\n",
       "        vertical-align: top;\n",
       "    }\n",
       "\n",
       "    .dataframe thead th {\n",
       "        text-align: right;\n",
       "    }\n",
       "</style>\n",
       "<table border=\"1\" class=\"dataframe\">\n",
       "  <thead>\n",
       "    <tr style=\"text-align: right;\">\n",
       "      <th></th>\n",
       "      <th>count</th>\n",
       "      <th>max</th>\n",
       "      <th>min</th>\n",
       "      <th>mean</th>\n",
       "    </tr>\n",
       "  </thead>\n",
       "  <tbody>\n",
       "    <tr>\n",
       "      <th>0</th>\n",
       "      <td>143</td>\n",
       "      <td>100.0</td>\n",
       "      <td>10.0</td>\n",
       "      <td>57.88489</td>\n",
       "    </tr>\n",
       "  </tbody>\n",
       "</table>\n",
       "</div>"
      ],
      "text/plain": [
       "   count    max   min      mean\n",
       "0    143  100.0  10.0  57.88489"
      ]
     },
     "execution_count": 14,
     "metadata": {},
     "output_type": "execute_result"
    }
   ],
   "source": [
    "price_stats = pd.read_sql(\"SELECT COUNT(id) AS count, MAX(price) AS max, MIN(price) AS min, AVG(price) as mean FROM purchases\", con=engine)\n",
    "price_stats"
   ]
  },
  {
   "cell_type": "markdown",
   "metadata": {},
   "source": [
    "<font color='green'>Correr el pipeline para la validación</font>"
   ]
  },
  {
   "cell_type": "code",
   "execution_count": 15,
   "metadata": {},
   "outputs": [
    {
     "name": "stdout",
     "output_type": "stream",
     "text": [
      "row_count:  144 price_max:  100.0 price_min:  10.0 price_mean:  57.657142857142865\n",
      "row_count:  145 price_max:  100.0 price_min:  10.0 price_mean:  57.32624113475178\n",
      "row_count:  146 price_max:  100.0 price_min:  10.0 price_mean:  57.01408450704226\n",
      "row_count:  147 price_max:  100.0 price_min:  10.0 price_mean:  57.25874125874127\n",
      "row_count:  148 price_max:  100.0 price_min:  10.0 price_mean:  57.076388888888886\n",
      "row_count:  149 price_max:  100.0 price_min:  10.0 price_mean:  57.110344827586204\n",
      "row_count:  150 price_max:  100.0 price_min:  10.0 price_mean:  56.80821917808219\n",
      "row_count:  151 price_max:  100.0 price_min:  10.0 price_mean:  57.006802721088434\n"
     ]
    }
   ],
   "source": [
    "batch_file_path = f\"{batch_folder}validation.csv\"\n",
    "batch = extract_batch(batch_file_path)\n",
    "price_max, price_min, price_mean, price_count, row_count = load_batch(\n",
    "    batch, engine, price_max, price_min, price_mean, price_count, row_count)\n",
    "\n",
    "# close the database connection\n",
    "engine.dispose()"
   ]
  },
  {
   "cell_type": "code",
   "execution_count": 17,
   "metadata": {},
   "outputs": [
    {
     "data": {
      "text/html": [
       "<div>\n",
       "<style scoped>\n",
       "    .dataframe tbody tr th:only-of-type {\n",
       "        vertical-align: middle;\n",
       "    }\n",
       "\n",
       "    .dataframe tbody tr th {\n",
       "        vertical-align: top;\n",
       "    }\n",
       "\n",
       "    .dataframe thead th {\n",
       "        text-align: right;\n",
       "    }\n",
       "</style>\n",
       "<table border=\"1\" class=\"dataframe\">\n",
       "  <thead>\n",
       "    <tr style=\"text-align: right;\">\n",
       "      <th></th>\n",
       "      <th>count</th>\n",
       "      <th>max</th>\n",
       "      <th>min</th>\n",
       "      <th>mean</th>\n",
       "    </tr>\n",
       "  </thead>\n",
       "  <tbody>\n",
       "    <tr>\n",
       "      <th>0</th>\n",
       "      <td>151</td>\n",
       "      <td>100.0</td>\n",
       "      <td>10.0</td>\n",
       "      <td>57.0068</td>\n",
       "    </tr>\n",
       "  </tbody>\n",
       "</table>\n",
       "</div>"
      ],
      "text/plain": [
       "   count    max   min     mean\n",
       "0    151  100.0  10.0  57.0068"
      ]
     },
     "execution_count": 17,
     "metadata": {},
     "output_type": "execute_result"
    }
   ],
   "source": [
    "price_stats = pd.read_sql(\"SELECT COUNT(id) AS count, MAX(price) AS max, MIN(price) AS min, AVG(price) as mean FROM purchases\", con=engine)\n",
    "price_stats"
   ]
  }
 ],
 "metadata": {
  "kernelspec": {
   "display_name": ".venv",
   "language": "python",
   "name": "python3"
  },
  "language_info": {
   "codemirror_mode": {
    "name": "ipython",
    "version": 3
   },
   "file_extension": ".py",
   "mimetype": "text/x-python",
   "name": "python",
   "nbconvert_exporter": "python",
   "pygments_lexer": "ipython3",
   "version": "3.10.10"
  }
 },
 "nbformat": 4,
 "nbformat_minor": 2
}
